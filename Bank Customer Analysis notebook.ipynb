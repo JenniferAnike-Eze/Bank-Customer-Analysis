{
 "cells": [
  {
   "cell_type": "code",
   "execution_count": 2,
   "id": "868be339-c3b0-4197-b29a-5ab482aa2f5f",
   "metadata": {},
   "outputs": [],
   "source": [
    "import pandas as pd"
   ]
  },
  {
   "cell_type": "markdown",
   "id": "81a23f51-cdb7-47aa-9816-80ca77eb4ae8",
   "metadata": {},
   "source": [
    "#### Load Data"
   ]
  },
  {
   "cell_type": "code",
   "execution_count": 14,
   "id": "d28b4ce0-5444-4258-9ff7-bf18be6dd28d",
   "metadata": {},
   "outputs": [],
   "source": [
    "customer_df = pd.read_excel(\"Bank_Churn_Messy.xlsx\", sheet_name = \"Customer_Info\")\n",
    "account_df = pd.read_excel(\"Bank_Churn_Messy.xlsx\", sheet_name = \"Account_Info\")\n",
    "\n",
    "\n",
    "                           "
   ]
  },
  {
   "cell_type": "markdown",
   "id": "c73406d8-6463-455e-ab1b-61ffc085b59a",
   "metadata": {},
   "source": [
    "#### Merge"
   ]
  },
  {
   "cell_type": "code",
   "execution_count": 13,
   "id": "fbb5a828-9f98-4969-99c5-6a07e42b3821",
   "metadata": {},
   "outputs": [
    {
     "name": "stdout",
     "output_type": "stream",
     "text": [
      "Index(['CustomerId', 'Surname', 'CreditScore', 'Geography', 'Gender', 'Age',\n",
      "       'Tenure', 'EstimatedSalary'],\n",
      "      dtype='object')\n",
      "Index(['CustomerId', 'Balance', 'NumOfProducts', 'HasCrCard', 'Tenure',\n",
      "       'IsActiveMember', 'Exited'],\n",
      "      dtype='object')\n"
     ]
    }
   ],
   "source": [
    "print(customer_df.columns)\n",
    "print(account_df.columns)\n"
   ]
  },
  {
   "cell_type": "code",
   "execution_count": 15,
   "id": "d1d74cf8-7ac3-43f8-8739-e6fc57732636",
   "metadata": {},
   "outputs": [],
   "source": [
    "df = pd.merge(customer_df, account_df, on=\"CustomerId\", how=\"inner\")"
   ]
  },
  {
   "cell_type": "code",
   "execution_count": 17,
   "id": "7df95663-90fc-432d-9279-5eaca713361a",
   "metadata": {},
   "outputs": [
    {
     "data": {
      "text/html": [
       "<div>\n",
       "<style scoped>\n",
       "    .dataframe tbody tr th:only-of-type {\n",
       "        vertical-align: middle;\n",
       "    }\n",
       "\n",
       "    .dataframe tbody tr th {\n",
       "        vertical-align: top;\n",
       "    }\n",
       "\n",
       "    .dataframe thead th {\n",
       "        text-align: right;\n",
       "    }\n",
       "</style>\n",
       "<table border=\"1\" class=\"dataframe\">\n",
       "  <thead>\n",
       "    <tr style=\"text-align: right;\">\n",
       "      <th></th>\n",
       "      <th>CustomerId</th>\n",
       "      <th>Surname</th>\n",
       "      <th>CreditScore</th>\n",
       "      <th>Geography</th>\n",
       "      <th>Gender</th>\n",
       "      <th>Age</th>\n",
       "      <th>Tenure_x</th>\n",
       "      <th>EstimatedSalary</th>\n",
       "      <th>Balance</th>\n",
       "      <th>NumOfProducts</th>\n",
       "      <th>HasCrCard</th>\n",
       "      <th>Tenure_y</th>\n",
       "      <th>IsActiveMember</th>\n",
       "      <th>Exited</th>\n",
       "    </tr>\n",
       "  </thead>\n",
       "  <tbody>\n",
       "    <tr>\n",
       "      <th>0</th>\n",
       "      <td>15634602</td>\n",
       "      <td>Hargrave</td>\n",
       "      <td>619</td>\n",
       "      <td>FRA</td>\n",
       "      <td>Female</td>\n",
       "      <td>42.0</td>\n",
       "      <td>2</td>\n",
       "      <td>€101348.88</td>\n",
       "      <td>€0.0</td>\n",
       "      <td>1</td>\n",
       "      <td>Yes</td>\n",
       "      <td>2</td>\n",
       "      <td>Yes</td>\n",
       "      <td>1</td>\n",
       "    </tr>\n",
       "    <tr>\n",
       "      <th>1</th>\n",
       "      <td>15634602</td>\n",
       "      <td>Hargrave</td>\n",
       "      <td>619</td>\n",
       "      <td>FRA</td>\n",
       "      <td>Female</td>\n",
       "      <td>42.0</td>\n",
       "      <td>2</td>\n",
       "      <td>€101348.88</td>\n",
       "      <td>€0.0</td>\n",
       "      <td>1</td>\n",
       "      <td>Yes</td>\n",
       "      <td>2</td>\n",
       "      <td>Yes</td>\n",
       "      <td>1</td>\n",
       "    </tr>\n",
       "    <tr>\n",
       "      <th>2</th>\n",
       "      <td>15647311</td>\n",
       "      <td>Hill</td>\n",
       "      <td>608</td>\n",
       "      <td>Spain</td>\n",
       "      <td>Female</td>\n",
       "      <td>41.0</td>\n",
       "      <td>1</td>\n",
       "      <td>€112542.58</td>\n",
       "      <td>€83807.86</td>\n",
       "      <td>1</td>\n",
       "      <td>Yes</td>\n",
       "      <td>1</td>\n",
       "      <td>Yes</td>\n",
       "      <td>0</td>\n",
       "    </tr>\n",
       "    <tr>\n",
       "      <th>3</th>\n",
       "      <td>15619304</td>\n",
       "      <td>Onio</td>\n",
       "      <td>502</td>\n",
       "      <td>French</td>\n",
       "      <td>Female</td>\n",
       "      <td>42.0</td>\n",
       "      <td>8</td>\n",
       "      <td>€113931.57</td>\n",
       "      <td>€159660.8</td>\n",
       "      <td>3</td>\n",
       "      <td>No</td>\n",
       "      <td>8</td>\n",
       "      <td>No</td>\n",
       "      <td>1</td>\n",
       "    </tr>\n",
       "    <tr>\n",
       "      <th>4</th>\n",
       "      <td>15701354</td>\n",
       "      <td>Boni</td>\n",
       "      <td>699</td>\n",
       "      <td>FRA</td>\n",
       "      <td>Female</td>\n",
       "      <td>39.0</td>\n",
       "      <td>1</td>\n",
       "      <td>€93826.63</td>\n",
       "      <td>€0.0</td>\n",
       "      <td>2</td>\n",
       "      <td>No</td>\n",
       "      <td>1</td>\n",
       "      <td>No</td>\n",
       "      <td>0</td>\n",
       "    </tr>\n",
       "  </tbody>\n",
       "</table>\n",
       "</div>"
      ],
      "text/plain": [
       "   CustomerId   Surname  CreditScore Geography  Gender   Age  Tenure_x  \\\n",
       "0    15634602  Hargrave          619       FRA  Female  42.0         2   \n",
       "1    15634602  Hargrave          619       FRA  Female  42.0         2   \n",
       "2    15647311      Hill          608     Spain  Female  41.0         1   \n",
       "3    15619304      Onio          502    French  Female  42.0         8   \n",
       "4    15701354      Boni          699       FRA  Female  39.0         1   \n",
       "\n",
       "  EstimatedSalary    Balance  NumOfProducts HasCrCard  Tenure_y  \\\n",
       "0      €101348.88       €0.0              1       Yes         2   \n",
       "1      €101348.88       €0.0              1       Yes         2   \n",
       "2      €112542.58  €83807.86              1       Yes         1   \n",
       "3      €113931.57  €159660.8              3        No         8   \n",
       "4       €93826.63       €0.0              2        No         1   \n",
       "\n",
       "  IsActiveMember  Exited  \n",
       "0            Yes       1  \n",
       "1            Yes       1  \n",
       "2            Yes       0  \n",
       "3             No       1  \n",
       "4             No       0  "
      ]
     },
     "execution_count": 17,
     "metadata": {},
     "output_type": "execute_result"
    }
   ],
   "source": [
    "df.head()"
   ]
  },
  {
   "cell_type": "markdown",
   "id": "122f24f3-7cb9-4ce7-8a3c-3d0f19b680d4",
   "metadata": {},
   "source": [
    "#### Cleaning"
   ]
  },
  {
   "cell_type": "code",
   "execution_count": 18,
   "id": "fc9d8167-856a-4b6e-87a1-5ffb02012876",
   "metadata": {},
   "outputs": [
    {
     "name": "stdout",
     "output_type": "stream",
     "text": [
      "<class 'pandas.core.frame.DataFrame'>\n",
      "RangeIndex: 10004 entries, 0 to 10003\n",
      "Data columns (total 14 columns):\n",
      " #   Column           Non-Null Count  Dtype  \n",
      "---  ------           --------------  -----  \n",
      " 0   CustomerId       10004 non-null  int64  \n",
      " 1   Surname          10001 non-null  object \n",
      " 2   CreditScore      10004 non-null  int64  \n",
      " 3   Geography        10004 non-null  object \n",
      " 4   Gender           10004 non-null  object \n",
      " 5   Age              10001 non-null  float64\n",
      " 6   Tenure_x         10004 non-null  int64  \n",
      " 7   EstimatedSalary  10004 non-null  object \n",
      " 8   Balance          10004 non-null  object \n",
      " 9   NumOfProducts    10004 non-null  int64  \n",
      " 10  HasCrCard        10004 non-null  object \n",
      " 11  Tenure_y         10004 non-null  int64  \n",
      " 12  IsActiveMember   10004 non-null  object \n",
      " 13  Exited           10004 non-null  int64  \n",
      "dtypes: float64(1), int64(6), object(7)\n",
      "memory usage: 1.1+ MB\n"
     ]
    },
    {
     "data": {
      "text/plain": [
       "(10004, 14)"
      ]
     },
     "execution_count": 18,
     "metadata": {},
     "output_type": "execute_result"
    }
   ],
   "source": [
    "df.info()\n",
    "df.shape"
   ]
  },
  {
   "cell_type": "code",
   "execution_count": 19,
   "id": "74e748a3-c5f2-4f8a-8f0a-d7523174e3bd",
   "metadata": {},
   "outputs": [
    {
     "data": {
      "text/plain": [
       "CustomerId         0\n",
       "Surname            3\n",
       "CreditScore        0\n",
       "Geography          0\n",
       "Gender             0\n",
       "Age                3\n",
       "Tenure_x           0\n",
       "EstimatedSalary    0\n",
       "Balance            0\n",
       "NumOfProducts      0\n",
       "HasCrCard          0\n",
       "Tenure_y           0\n",
       "IsActiveMember     0\n",
       "Exited             0\n",
       "dtype: int64"
      ]
     },
     "execution_count": 19,
     "metadata": {},
     "output_type": "execute_result"
    }
   ],
   "source": [
    "df.isnull().sum()"
   ]
  },
  {
   "cell_type": "code",
   "execution_count": 21,
   "id": "f6c3bcef-0cd1-498e-a0d8-87c55ceb7de5",
   "metadata": {},
   "outputs": [],
   "source": [
    "df = df[df['Surname'].notnull()]\n"
   ]
  },
  {
   "cell_type": "code",
   "execution_count": 24,
   "id": "b16b4a5e-aa55-4678-a2ae-9e63eca3faba",
   "metadata": {},
   "outputs": [],
   "source": [
    "median_age = df['Age'].median()\n",
    "df['Age'] = df['Age'].fillna(median_age)"
   ]
  },
  {
   "cell_type": "code",
   "execution_count": 27,
   "id": "317749a0-87d0-4169-81d4-2b1100864d4e",
   "metadata": {},
   "outputs": [
    {
     "name": "stdout",
     "output_type": "stream",
     "text": [
      "Index(['CustomerId', 'Surname', 'CreditScore', 'Geography', 'Gender', 'Age',\n",
      "       'Tenure', 'EstimatedSalary', 'Balance', 'NumOfProducts', 'HasCrCard',\n",
      "       'IsActiveMember', 'Exited'],\n",
      "      dtype='object')\n"
     ]
    }
   ],
   "source": [
    "print(df.columns)"
   ]
  },
  {
   "cell_type": "code",
   "execution_count": 28,
   "id": "bf039bc9-718f-456b-9792-aeafc1c36497",
   "metadata": {},
   "outputs": [
    {
     "name": "stdout",
     "output_type": "stream",
     "text": [
      "<class 'pandas.core.frame.DataFrame'>\n",
      "Index: 10001 entries, 0 to 10003\n",
      "Data columns (total 13 columns):\n",
      " #   Column           Non-Null Count  Dtype  \n",
      "---  ------           --------------  -----  \n",
      " 0   CustomerId       10001 non-null  int64  \n",
      " 1   Surname          10001 non-null  object \n",
      " 2   CreditScore      10001 non-null  int64  \n",
      " 3   Geography        10001 non-null  object \n",
      " 4   Gender           10001 non-null  object \n",
      " 5   Age              10001 non-null  float64\n",
      " 6   Tenure           10001 non-null  int64  \n",
      " 7   EstimatedSalary  10001 non-null  object \n",
      " 8   Balance          10001 non-null  object \n",
      " 9   NumOfProducts    10001 non-null  int64  \n",
      " 10  HasCrCard        10001 non-null  object \n",
      " 11  IsActiveMember   10001 non-null  object \n",
      " 12  Exited           10001 non-null  int64  \n",
      "dtypes: float64(1), int64(5), object(7)\n",
      "memory usage: 1.1+ MB\n"
     ]
    },
    {
     "data": {
      "text/plain": [
       "(10001, 13)"
      ]
     },
     "execution_count": 28,
     "metadata": {},
     "output_type": "execute_result"
    }
   ],
   "source": [
    "df.isnull().sum()     \n",
    "df.info()             \n",
    "df.shape"
   ]
  },
  {
   "cell_type": "code",
   "execution_count": 29,
   "id": "8e99f332-7b13-4d52-ae5e-6539db880381",
   "metadata": {},
   "outputs": [],
   "source": [
    "df.to_excel(\"Cleaned_Bank_Churn_Data.xlsx\", index=False)\n"
   ]
  },
  {
   "cell_type": "code",
   "execution_count": 30,
   "id": "7bb4e55d-052a-41da-8c35-12a87985aa39",
   "metadata": {},
   "outputs": [
    {
     "data": {
      "text/plain": [
       "\"C:\\\\Users\\\\Dell Latitude\\\\Downloads\\\\Jennifer's Assignment (Data Analysis For Python)\""
      ]
     },
     "execution_count": 30,
     "metadata": {},
     "output_type": "execute_result"
    }
   ],
   "source": [
    "import os\n",
    "os.getcwd()\n"
   ]
  },
  {
   "cell_type": "markdown",
   "id": "48476b0f-6f91-4c5e-ba8e-f4f0181e5c25",
   "metadata": {},
   "source": [
    "#### Churn Overview"
   ]
  },
  {
   "cell_type": "code",
   "execution_count": 31,
   "id": "65b49836-a24e-4d7f-b863-2e5bffd243fa",
   "metadata": {},
   "outputs": [
    {
     "name": "stdout",
     "output_type": "stream",
     "text": [
      "Exited\n",
      "0    7963\n",
      "1    2038\n",
      "Name: count, dtype: int64\n"
     ]
    }
   ],
   "source": [
    "# Count total and exited customers\n",
    "print(df['Exited'].value_counts())"
   ]
  },
  {
   "cell_type": "code",
   "execution_count": 32,
   "id": "30133f95-1bde-4568-9343-2ddc40ac5835",
   "metadata": {},
   "outputs": [
    {
     "name": "stdout",
     "output_type": "stream",
     "text": [
      "Churn Rate: 20.38%\n"
     ]
    }
   ],
   "source": [
    "# Percentage churn\n",
    "churn_rate = df['Exited'].mean() * 100\n",
    "print(f\"Churn Rate: {churn_rate:.2f}%\")"
   ]
  },
  {
   "cell_type": "markdown",
   "id": "b27d62e5-b00d-4c38-b768-757f8591abb9",
   "metadata": {},
   "source": [
    "#### Gender and Geography Distribution"
   ]
  },
  {
   "cell_type": "code",
   "execution_count": 33,
   "id": "27757ec9-9342-4108-94ea-afca52829b94",
   "metadata": {},
   "outputs": [
    {
     "name": "stdout",
     "output_type": "stream",
     "text": [
      "Gender\n",
      "Male      5456\n",
      "Female    4545\n",
      "Name: count, dtype: int64\n"
     ]
    }
   ],
   "source": [
    "# Gender distribution\n",
    "print(df['Gender'].value_counts())"
   ]
  },
  {
   "cell_type": "code",
   "execution_count": 34,
   "id": "c8e34d49-c07f-4580-bce8-a3ddf5879007",
   "metadata": {},
   "outputs": [
    {
     "name": "stdout",
     "output_type": "stream",
     "text": [
      "Geography\n",
      "Germany    2508\n",
      "Spain      2476\n",
      "France     1740\n",
      "French     1658\n",
      "FRA        1619\n",
      "Name: count, dtype: int64\n"
     ]
    }
   ],
   "source": [
    "# Geography distribution\n",
    "print(df['Geography'].value_counts())"
   ]
  },
  {
   "cell_type": "markdown",
   "id": "9bf55f52-43fc-4371-b0c5-b48158205efb",
   "metadata": {},
   "source": [
    "#### Average Financial Metrics"
   ]
  },
  {
   "cell_type": "code",
   "execution_count": 61,
   "id": "b89e6fee-5cbf-4c99-9acd-0958913dab8c",
   "metadata": {},
   "outputs": [
    {
     "data": {
      "text/html": [
       "<div>\n",
       "<style scoped>\n",
       "    .dataframe tbody tr th:only-of-type {\n",
       "        vertical-align: middle;\n",
       "    }\n",
       "\n",
       "    .dataframe tbody tr th {\n",
       "        vertical-align: top;\n",
       "    }\n",
       "\n",
       "    .dataframe thead th {\n",
       "        text-align: right;\n",
       "    }\n",
       "</style>\n",
       "<table border=\"1\" class=\"dataframe\">\n",
       "  <thead>\n",
       "    <tr style=\"text-align: right;\">\n",
       "      <th></th>\n",
       "      <th>CreditScore</th>\n",
       "      <th>Balance</th>\n",
       "      <th>EstimatedSalary</th>\n",
       "    </tr>\n",
       "    <tr>\n",
       "      <th>Exited</th>\n",
       "      <th></th>\n",
       "      <th></th>\n",
       "      <th></th>\n",
       "    </tr>\n",
       "  </thead>\n",
       "  <tbody>\n",
       "    <tr>\n",
       "      <th>0</th>\n",
       "      <td>651.927289</td>\n",
       "      <td>0.0</td>\n",
       "      <td>0.0</td>\n",
       "    </tr>\n",
       "    <tr>\n",
       "      <th>1</th>\n",
       "      <td>645.338567</td>\n",
       "      <td>0.0</td>\n",
       "      <td>0.0</td>\n",
       "    </tr>\n",
       "  </tbody>\n",
       "</table>\n",
       "</div>"
      ],
      "text/plain": [
       "        CreditScore  Balance  EstimatedSalary\n",
       "Exited                                       \n",
       "0        651.927289      0.0              0.0\n",
       "1        645.338567      0.0              0.0"
      ]
     },
     "execution_count": 61,
     "metadata": {},
     "output_type": "execute_result"
    }
   ],
   "source": [
    "# Average Financial Metrics grouped by churn status \n",
    "df.groupby('Exited')[['CreditScore', 'Balance', 'EstimatedSalary']].mean()"
   ]
  },
  {
   "cell_type": "code",
   "execution_count": 59,
   "id": "19e8dbc7-74fa-4d19-885f-ac7a60c672c2",
   "metadata": {},
   "outputs": [
    {
     "data": {
      "text/html": [
       "<div>\n",
       "<style scoped>\n",
       "    .dataframe tbody tr th:only-of-type {\n",
       "        vertical-align: middle;\n",
       "    }\n",
       "\n",
       "    .dataframe tbody tr th {\n",
       "        vertical-align: top;\n",
       "    }\n",
       "\n",
       "    .dataframe thead th {\n",
       "        text-align: right;\n",
       "    }\n",
       "</style>\n",
       "<table border=\"1\" class=\"dataframe\">\n",
       "  <thead>\n",
       "    <tr style=\"text-align: right;\">\n",
       "      <th></th>\n",
       "      <th>Balance</th>\n",
       "      <th>EstimatedSalary</th>\n",
       "    </tr>\n",
       "  </thead>\n",
       "  <tbody>\n",
       "    <tr>\n",
       "      <th>0</th>\n",
       "      <td>0</td>\n",
       "      <td>0</td>\n",
       "    </tr>\n",
       "    <tr>\n",
       "      <th>1</th>\n",
       "      <td>0</td>\n",
       "      <td>0</td>\n",
       "    </tr>\n",
       "    <tr>\n",
       "      <th>2</th>\n",
       "      <td>0</td>\n",
       "      <td>0</td>\n",
       "    </tr>\n",
       "    <tr>\n",
       "      <th>3</th>\n",
       "      <td>0</td>\n",
       "      <td>0</td>\n",
       "    </tr>\n",
       "    <tr>\n",
       "      <th>4</th>\n",
       "      <td>0</td>\n",
       "      <td>0</td>\n",
       "    </tr>\n",
       "    <tr>\n",
       "      <th>5</th>\n",
       "      <td>0</td>\n",
       "      <td>0</td>\n",
       "    </tr>\n",
       "    <tr>\n",
       "      <th>6</th>\n",
       "      <td>0</td>\n",
       "      <td>0</td>\n",
       "    </tr>\n",
       "    <tr>\n",
       "      <th>7</th>\n",
       "      <td>0</td>\n",
       "      <td>0</td>\n",
       "    </tr>\n",
       "    <tr>\n",
       "      <th>8</th>\n",
       "      <td>0</td>\n",
       "      <td>0</td>\n",
       "    </tr>\n",
       "    <tr>\n",
       "      <th>9</th>\n",
       "      <td>0</td>\n",
       "      <td>0</td>\n",
       "    </tr>\n",
       "  </tbody>\n",
       "</table>\n",
       "</div>"
      ],
      "text/plain": [
       "   Balance  EstimatedSalary\n",
       "0        0                0\n",
       "1        0                0\n",
       "2        0                0\n",
       "3        0                0\n",
       "4        0                0\n",
       "5        0                0\n",
       "6        0                0\n",
       "7        0                0\n",
       "8        0                0\n",
       "9        0                0"
      ]
     },
     "execution_count": 59,
     "metadata": {},
     "output_type": "execute_result"
    }
   ],
   "source": [
    "df[['Balance', 'EstimatedSalary']].head(10)"
   ]
  },
  {
   "cell_type": "code",
   "execution_count": 60,
   "id": "c5e80c94-edaa-417d-bddf-461e759b8712",
   "metadata": {},
   "outputs": [
    {
     "data": {
      "text/plain": [
       "array([0], dtype=int64)"
      ]
     },
     "execution_count": 60,
     "metadata": {},
     "output_type": "execute_result"
    }
   ],
   "source": [
    "df['Balance'].unique()[:10]\n",
    "df['EstimatedSalary'].unique()[:10]"
   ]
  },
  {
   "cell_type": "code",
   "execution_count": 62,
   "id": "a3b82aa0-ef24-4cb2-b98b-a114e01e2066",
   "metadata": {},
   "outputs": [],
   "source": [
    "# Note: Due to zeroed data, financial metrics (Balance and EstimatedSalary) will be excluded from this analysis."
   ]
  },
  {
   "cell_type": "markdown",
   "id": "967338a4-8b8f-403c-944f-aa60460c7833",
   "metadata": {},
   "source": [
    "#### Tenure, Products & Activity"
   ]
  },
  {
   "cell_type": "code",
   "execution_count": 36,
   "id": "ddba36bb-669f-47ff-83e4-9b3f08674e2e",
   "metadata": {},
   "outputs": [
    {
     "name": "stdout",
     "output_type": "stream",
     "text": [
      "Exited\n",
      "0    5.033404\n",
      "1    4.931305\n",
      "Name: Tenure, dtype: float64\n"
     ]
    }
   ],
   "source": [
    "# Tenure vs Churn\n",
    "print(df.groupby('Exited')['Tenure'].mean())"
   ]
  },
  {
   "cell_type": "code",
   "execution_count": 37,
   "id": "055019ce-ecce-468e-bd66-055d45550507",
   "metadata": {},
   "outputs": [
    {
     "name": "stdout",
     "output_type": "stream",
     "text": [
      "Exited\n",
      "0    1.544267\n",
      "1    1.474975\n",
      "Name: NumOfProducts, dtype: float64\n"
     ]
    }
   ],
   "source": [
    "# Number of Products vs Churn\n",
    "print(df.groupby('Exited')['NumOfProducts'].mean())"
   ]
  },
  {
   "cell_type": "code",
   "execution_count": 38,
   "id": "801a53d1-a096-415b-9a81-3c0d64ae4d33",
   "metadata": {},
   "outputs": [
    {
     "name": "stdout",
     "output_type": "stream",
     "text": [
      "IsActiveMember  Exited\n",
      "No              0         73.160173\n",
      "                1         26.839827\n",
      "Yes             0         85.708738\n",
      "                1         14.291262\n",
      "Name: proportion, dtype: float64\n"
     ]
    }
   ],
   "source": [
    "# IsActiveMember vs Churn\n",
    "print(df.groupby('IsActiveMember')['Exited'].value_counts(normalize=True) * 100)"
   ]
  },
  {
   "cell_type": "markdown",
   "id": "d56a6872-a636-4554-8012-48047e42b001",
   "metadata": {},
   "source": [
    "#### Churn Analysis Based on Demographics & Engagement"
   ]
  },
  {
   "cell_type": "markdown",
   "id": "c7374111-0038-46c2-98a6-3ea38b8fb382",
   "metadata": {},
   "source": [
    "#### 1. What does churn rate look like?"
   ]
  },
  {
   "cell_type": "code",
   "execution_count": 63,
   "id": "6424f345-360d-498a-b6bc-405f8e4a819b",
   "metadata": {},
   "outputs": [],
   "source": [
    "import seaborn as sns\n",
    "import matplotlib.pyplot as plt"
   ]
  },
  {
   "cell_type": "code",
   "execution_count": 64,
   "id": "3725cd75-d746-471c-9db8-a525986c8e8b",
   "metadata": {},
   "outputs": [
    {
     "data": {
      "image/png": "[encoded data removed]",
      "text/plain": [
       "<Figure size 640x480 with 1 Axes>"
      ]
     },
     "metadata": {},
     "output_type": "display_data"
    }
   ],
   "source": [
    "# Churn distribution\n",
    "sns.countplot(data=df, x='Exited')\n",
    "plt.title('Churn Distribution (Exited = 1)')\n",
    "plt.xlabel('Exited')\n",
    "plt.ylabel('Number of Customers')\n",
    "plt.show()"
   ]
  },
  {
   "cell_type": "markdown",
   "id": "eb91bc26-120b-48d0-b71e-c7d93eee5726",
   "metadata": {},
   "source": [
    "#### 2. How is churn distributed across gender?"
   ]
  },
  {
   "cell_type": "code",
   "execution_count": 66,
   "id": "323da67e-cc2d-4846-98a4-1e12b1364afa",
   "metadata": {},
   "outputs": [
    {
     "data": {
      "image/png": "[encoded data removed]",
      "text/plain": [
       "<Figure size 640x480 with 1 Axes>"
      ]
     },
     "metadata": {},
     "output_type": "display_data"
    }
   ],
   "source": [
    "sns.countplot(data=df, x='Gender', hue='Exited')\n",
    "plt.title('Churn by Gender')\n",
    "plt.xlabel('Gender')\n",
    "plt.ylabel('Count')\n",
    "plt.show()"
   ]
  },
  {
   "cell_type": "markdown",
   "id": "37ca5795-0420-4cae-a1b9-f43e69d9e1b1",
   "metadata": {},
   "source": [
    "#### 3. What’s the average credit score and age by churn status?"
   ]
  },
  {
   "cell_type": "code",
   "execution_count": 67,
   "id": "fd59e721-c7c8-4c01-a273-3c7842eaf6c4",
   "metadata": {},
   "outputs": [
    {
     "data": {
      "text/html": [
       "<div>\n",
       "<style scoped>\n",
       "    .dataframe tbody tr th:only-of-type {\n",
       "        vertical-align: middle;\n",
       "    }\n",
       "\n",
       "    .dataframe tbody tr th {\n",
       "        vertical-align: top;\n",
       "    }\n",
       "\n",
       "    .dataframe thead th {\n",
       "        text-align: right;\n",
       "    }\n",
       "</style>\n",
       "<table border=\"1\" class=\"dataframe\">\n",
       "  <thead>\n",
       "    <tr style=\"text-align: right;\">\n",
       "      <th></th>\n",
       "      <th>CreditScore</th>\n",
       "      <th>Age</th>\n",
       "    </tr>\n",
       "    <tr>\n",
       "      <th>Exited</th>\n",
       "      <th></th>\n",
       "      <th></th>\n",
       "    </tr>\n",
       "  </thead>\n",
       "  <tbody>\n",
       "    <tr>\n",
       "      <th>0</th>\n",
       "      <td>651.927289</td>\n",
       "      <td>37.404621</td>\n",
       "    </tr>\n",
       "    <tr>\n",
       "      <th>1</th>\n",
       "      <td>645.338567</td>\n",
       "      <td>44.836605</td>\n",
       "    </tr>\n",
       "  </tbody>\n",
       "</table>\n",
       "</div>"
      ],
      "text/plain": [
       "        CreditScore        Age\n",
       "Exited                        \n",
       "0        651.927289  37.404621\n",
       "1        645.338567  44.836605"
      ]
     },
     "execution_count": 67,
     "metadata": {},
     "output_type": "execute_result"
    }
   ],
   "source": [
    "df.groupby('Exited')[['CreditScore', 'Age']].mean()"
   ]
  },
  {
   "cell_type": "markdown",
   "id": "edbfcb25-85b4-4c1f-96b6-e8809b1c950f",
   "metadata": {},
   "source": [
    "#### 4. What regions have higher churn?"
   ]
  },
  {
   "cell_type": "code",
   "execution_count": 68,
   "id": "70a5338d-4b31-4c79-9468-82ba8dcf2b99",
   "metadata": {},
   "outputs": [
    {
     "data": {
      "image/png": "[encoded data removed]",
      "text/plain": [
       "<Figure size 640x480 with 1 Axes>"
      ]
     },
     "metadata": {},
     "output_type": "display_data"
    }
   ],
   "source": [
    "sns.countplot(data=df, x='Geography', hue='Exited')\n",
    "plt.title('Churn by Geography')\n",
    "plt.show()"
   ]
  },
  {
   "cell_type": "markdown",
   "id": "be74ef48-a2e4-47d5-8893-f9a280b0aea0",
   "metadata": {},
   "source": [
    "#### 5. Are customers with more products likely to churn?"
   ]
  },
  {
   "cell_type": "code",
   "execution_count": 69,
   "id": "01a8a26b-b5b5-4cb6-bcbb-e7e4a0d0903a",
   "metadata": {},
   "outputs": [
    {
     "data": {
      "image/png": "[encoded data removed]",
      "text/plain": [
       "<Figure size 640x480 with 1 Axes>"
      ]
     },
     "metadata": {},
     "output_type": "display_data"
    }
   ],
   "source": [
    "sns.countplot(data=df, x='NumOfProducts', hue='Exited')\n",
    "plt.title('Churn by Number of Products')\n",
    "plt.show()"
   ]
  },
  {
   "cell_type": "markdown",
   "id": "eefb3f81-3610-4c2f-8387-c9e1eddd7ff1",
   "metadata": {},
   "source": [
    "#### Insights and Observations"
   ]
  },
  {
   "cell_type": "markdown",
   "id": "dcf34345-a58b-4b68-91de-9db9836227e5",
   "metadata": {},
   "source": [
    "#### 1. Churn Rate\n",
    "About 20% of customers have exited, while 80% remain. Which suggests a moderate churn rate and highlights a need to investigate retention factors."
   ]
  },
  {
   "cell_type": "markdown",
   "id": "de9cfb9f-9b8e-4a33-aa60-68a7c1a5ce78",
   "metadata": {},
   "source": [
    "#### 2. Gender and Churn\n",
    "Both male and female customers leave at similar rates. Which suggests that gender may not be a strong driver of churn by itself."
   ]
  },
  {
   "cell_type": "markdown",
   "id": "aab814ee-b263-44fc-8a4b-85ef9d707191",
   "metadata": {},
   "source": [
    "#### 3. Credit Score & Age by Churn\n",
    "Exited customers have a slightly lower average credit score.\n",
    "\n",
    "They are also older on average compared to customers who stayed. Which means age may play a role in churn. Older customers might leave more."
   ]
  },
  {
   "cell_type": "markdown",
   "id": "467c1e1c-21f2-4ea3-8ad6-3d0d41060926",
   "metadata": {},
   "source": [
    "#### 4. Geography and Churn\n",
    "Customers from Germany have the highest churn rate.\n",
    "\n",
    "Customers from France and Spain are more likely to stay.\n",
    "Regional strategies may help improve customer retention."
   ]
  },
  {
   "cell_type": "markdown",
   "id": "c7722008-70c7-4282-9fb5-ac229b841150",
   "metadata": {},
   "source": [
    "#### 5. Number of Products\n",
    "Customers with 1 product are more likely to leave.\n",
    "\n",
    "Churn rate drops significantly among customers with 3 or more products.\n",
    "Encouraging multi-product engagement could reduce churn."
   ]
  },
  {
   "cell_type": "markdown",
   "id": "208d9e08-e854-48a5-916c-74c74f91641c",
   "metadata": {},
   "source": [
    "#### 6. Correlation Heatmap\n",
    "Exited has a Negative correlation with IsActiveMember, CreditScore and NumOfProducts and Positive correlation with Age.\n",
    "Active, younger and multi-product users tend to stay longer."
   ]
  }
 ],
 "metadata": {
  "kernelspec": {
   "display_name": "Python 3 (ipykernel)",
   "language": "python",
   "name": "python3"
  },
  "language_info": {
   "codemirror_mode": {
    "name": "ipython",
    "version": 3
   },
   "file_extension": ".py",
   "mimetype": "text/x-python",
   "name": "python",
   "nbconvert_exporter": "python",
   "pygments_lexer": "ipython3",
   "version": "3.12.7"
  }
 },
 "nbformat": 4,
 "nbformat_minor": 5
}
